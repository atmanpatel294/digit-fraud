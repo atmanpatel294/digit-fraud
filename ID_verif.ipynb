{
  "nbformat": 4,
  "nbformat_minor": 0,
  "metadata": {
    "colab": {
      "name": "ID_verif.ipynb",
      "provenance": [],
      "collapsed_sections": []
    },
    "kernelspec": {
      "name": "python3",
      "display_name": "Python 3"
    },
    "accelerator": "GPU"
  },
  "cells": [
    {
      "cell_type": "code",
      "metadata": {
        "id": "N57LxpWJkmCT",
        "colab_type": "code",
        "colab": {}
      },
      "source": [
        "%matplotlib inline\n",
        "import torchvision\n",
        "import torchvision.datasets as dset\n",
        "import torchvision.transforms as transforms\n",
        "from torch.utils.data import DataLoader,Dataset\n",
        "import matplotlib.pyplot as plt\n",
        "import torchvision.utils\n",
        "import numpy as np\n",
        "import random\n",
        "from PIL import Image\n",
        "import torch\n",
        "from torch.autograd import Variable\n",
        "import PIL.ImageOps    \n",
        "import torch.nn as nn\n",
        "from torch import optim\n",
        "import torch.nn.functional as F\n",
        "\n",
        "import os\n",
        "import struct\n",
        "import numpy as np\n",
        "import h5py\n",
        "import cv2"
      ],
      "execution_count": 0,
      "outputs": []
    },
    {
      "cell_type": "code",
      "metadata": {
        "id": "DT-V-pnsZaKr",
        "colab_type": "code",
        "colab": {
          "base_uri": "https://localhost:8080/",
          "height": 34
        },
        "outputId": "7c7d3ebb-f85e-48a7-c744-984f1780df1b"
      },
      "source": [
        "def get_default_device():\n",
        "    if torch.cuda.is_available():\n",
        "        return torch.device(\"cuda\")\n",
        "    else:\n",
        "        return torch.device(\"cpu\")\n",
        "device = get_default_device()\n",
        "print(device)\n",
        "\n",
        "def to_device(data,device):\n",
        "    if isinstance(data, (list,tuple)):\n",
        "        return [to_device(x,device) for x in data]\n",
        "    else:\n",
        "        return data.to(device, non_blocking=True)\n",
        "    \n",
        "class DeviceDataLoader():\n",
        "    def __init__(self, dl, device):\n",
        "        self.dl = dl\n",
        "        self.device = device\n",
        "    \n",
        "    def __iter__(self):\n",
        "        for b in self.dl:\n",
        "            yield to_device(b, self.device)\n",
        "            \n",
        "    def __len__(self):\n",
        "        return len(self.dl)"
      ],
      "execution_count": 2,
      "outputs": [
        {
          "output_type": "stream",
          "text": [
            "cuda\n"
          ],
          "name": "stdout"
        }
      ]
    },
    {
      "cell_type": "code",
      "metadata": {
        "id": "h2vYY1o1KSG3",
        "colab_type": "code",
        "colab": {
          "base_uri": "https://localhost:8080/",
          "height": 34
        },
        "outputId": "ff16dcdb-a38f-4f1b-eeed-a0a4b58bb196"
      },
      "source": [
        "def loadMNIST(dataset=\"train\", path=\"\"):\n",
        "\n",
        "    fname_img = os.path.join('t10k-images-idx3-ubyte')\n",
        "    fname_lbl = os.path.join('t10k-labels-idx1-ubyte')\n",
        "\n",
        "    # Load everything in some numpy arrays\n",
        "    with open(fname_lbl, 'rb') as flbl:\n",
        "        magic, num = struct.unpack(\">II\", flbl.read(8))\n",
        "        lbl = np.fromfile(flbl, dtype=np.int8)\n",
        "\n",
        "    with open(fname_img, 'rb') as fimg:\n",
        "        magic, num, rows, cols = struct.unpack(\">IIII\", fimg.read(16))\n",
        "        img = np.fromfile(fimg, dtype=np.uint8).reshape(len(lbl), rows * cols)\n",
        "\n",
        "    new_img = np.zeros((10000,16,16))\n",
        "    for i in range(10000):\n",
        "        tmp = np.reshape(img[i],(28,-1))\n",
        "        tmp = cv2.resize(tmp, dsize=(16,16), interpolation=cv2.INTER_AREA)\n",
        "        new_img[i] = tmp\n",
        "\n",
        "    lbl = lbl.astype(int)\n",
        "    X_te, y_te = new_img[7291:2007+7291], lbl[7291:2007+7291]\n",
        "    X_tr, y_tr = new_img[:7291], lbl[:7291]\n",
        "    \n",
        "    if dataset==\"train\":\n",
        "        print(\"MNIST training size: \", X_tr.shape,\"  | labels: \", y_tr.shape)\n",
        "        return X_tr, y_tr\n",
        "    else:\n",
        "        print(\"MNIST testing size: \", X_te.shape,\"  | labels: \", y_te.shape)\n",
        "        return X_te, y_te"
      ],
      "execution_count": 151,
      "outputs": [
        {
          "output_type": "stream",
          "text": [
            "training size:  (7291, 16, 16)   | labels:  (7291,)\n"
          ],
          "name": "stdout"
        }
      ]
    },
    {
      "cell_type": "code",
      "metadata": {
        "id": "WN3raTm9MQI8",
        "colab_type": "code",
        "colab": {
          "base_uri": "https://localhost:8080/",
          "height": 34
        },
        "outputId": "a2768d76-b7fa-4478-ddc8-20d0af2a8ecf"
      },
      "source": [
        "def loadUSPS(dataset=\"train\"):\n",
        "    with h5py.File(\"usps.h5\", 'r') as hf:\n",
        "        train = hf.get('train')\n",
        "        X_tr = train.get('data')[:].reshape(-1,16,16)\n",
        "        y_tr = train.get('target')[:]\n",
        "        test = hf.get('test')\n",
        "        X_te = test.get('data')[:].reshape(-1,16,16)\n",
        "        y_te = test.get('target')[:]\n",
        "    \n",
        "    \n",
        "    if dataset==\"train\":\n",
        "        print(\"USPS training size: \", X_tr.shape,\"  | labels: \", y_tr.shape)\n",
        "        return X_tr,y_tr\n",
        "    else:\n",
        "        print(\"USPS testing size: \", X_te.shape,\"  | labels: \", y_te.shape)\n",
        "        return X_te,y_te"
      ],
      "execution_count": 152,
      "outputs": [
        {
          "output_type": "stream",
          "text": [
            "training size:  (7291, 16, 16)   | labels:  (7291,)\n"
          ],
          "name": "stdout"
        }
      ]
    },
    {
      "cell_type": "code",
      "metadata": {
        "id": "XlpO7hRMIGv_",
        "colab_type": "code",
        "colab": {}
      },
      "source": [
        "def imshow(img,text=None,should_save=False):\n",
        "    npimg = img#.numpy()\n",
        "    plt.axis(\"off\")\n",
        "    if text:\n",
        "        plt.text(75, 8, text, style='italic',fontweight='bold',\n",
        "            bbox={'facecolor':'white', 'alpha':0.8, 'pad':10})\n",
        "    plt.imshow(np.transpose(npimg, (1, 2, 0)))\n",
        "    plt.show()    \n",
        "\n",
        "def show_plot(iteration,loss):\n",
        "    plt.plot(iteration,loss)\n",
        "    plt.show()"
      ],
      "execution_count": 0,
      "outputs": []
    },
    {
      "cell_type": "code",
      "metadata": {
        "id": "y36MLJ7aRAHO",
        "colab_type": "code",
        "colab": {
          "base_uri": "https://localhost:8080/",
          "height": 217
        },
        "outputId": "40443cd4-a537-4638-88f7-dfb85df112ad"
      },
      "source": [
        "i = 14\n",
        "fig,ax = plt.subplots(1,2)\n",
        "ax[0].imshow(mdata[i])\n",
        "ax[1].imshow(udata[i])"
      ],
      "execution_count": 154,
      "outputs": [
        {
          "output_type": "execute_result",
          "data": {
            "text/plain": [
              "<matplotlib.image.AxesImage at 0x7f76a35bb320>"
            ]
          },
          "metadata": {
            "tags": []
          },
          "execution_count": 154
        },
        {
          "output_type": "display_data",
          "data": {
            "image/png": "[encoded data removed]",
            "text/plain": [
              "<Figure size 432x288 with 2 Axes>"
            ]
          },
          "metadata": {
            "tags": []
          }
        }
      ]
    },
    {
      "cell_type": "code",
      "metadata": {
        "id": "3JCKbjn-ILXT",
        "colab_type": "code",
        "colab": {}
      },
      "source": [
        "class Config():\n",
        "    train_batch_size = 64\n",
        "    train_number_epochs = 100\n",
        "Config = Config()"
      ],
      "execution_count": 0,
      "outputs": []
    },
    {
      "cell_type": "code",
      "metadata": {
        "id": "5qFwFGH_IN5i",
        "colab_type": "code",
        "colab": {}
      },
      "source": [
        "class SiameseNetworkDataset(Dataset):\n",
        "    \n",
        "    def __init__(self,dataset=\"train\",transform=None, data_size=10000):\n",
        "        self.transform = transform\n",
        "        self.X1, self.y1 = loadMNIST(dataset)\n",
        "        self.X2, self.y2 = loadUSPS(dataset)\n",
        "        self.data_size = data_size\n",
        "        \n",
        "    def __getitem__(self,index):\n",
        "        should_get_same_class = random.randint(0,1) \n",
        "        if should_get_same_class:\n",
        "            if(random.randint(0,1)==0):\n",
        "                img0_tuple = random.choice(self.X1)\n",
        "                img1_tuple = random.choice(self.X1) #self.X1[index]#\n",
        "            else:\n",
        "                img0_tuple = random.choice(self.X2)\n",
        "                img1_tuple = random.choice(self.X2)#self.X2[index]\n",
        "        else:\n",
        "            img0_tuple = random.choice(self.X1)#self.X1[index]\n",
        "            img1_tuple = random.choice(self.X2)#self.X2[index]\n",
        "\n",
        "        img0 = Image.fromarray(img0_tuple)\n",
        "        img1 = Image.fromarray(img1_tuple)\n",
        "\n",
        "        img0 = self.transform(img0)\n",
        "        img1 = self.transform(img1)\n",
        "        \n",
        "        return img0, img1 , torch.from_numpy(np.array(1-should_get_same_class,dtype=np.float32))\n",
        "    \n",
        "    def __len__(self):\n",
        "        return self.data_size "
      ],
      "execution_count": 0,
      "outputs": []
    },
    {
      "cell_type": "code",
      "metadata": {
        "id": "EG5HpICZTNIL",
        "colab_type": "code",
        "colab": {}
      },
      "source": [
        "data_transform = transforms.Compose([\n",
        "    transforms.ToTensor(),\n",
        "    transforms.Normalize([0], [0.5])\n",
        "])"
      ],
      "execution_count": 0,
      "outputs": []
    },
    {
      "cell_type": "code",
      "metadata": {
        "id": "OCDtuO4gTPS-",
        "colab_type": "code",
        "colab": {
          "base_uri": "https://localhost:8080/",
          "height": 51
        },
        "outputId": "485becdb-7edc-4a72-d80f-4defbe39a4d4"
      },
      "source": [
        "train_dataset = SiameseNetworkDataset(dataset=\"train\",transform=data_transform)\n",
        "Config.train_batch_size = 64\n",
        "train_loader = DataLoader(dataset=train_dataset, batch_size=Config.train_batch_size, shuffle=True, num_workers=4)\n",
        "train_loader = DeviceDataLoader(train_loader, device)"
      ],
      "execution_count": 207,
      "outputs": [
        {
          "output_type": "stream",
          "text": [
            "training size:  (7291, 16, 16)   | labels:  (7291,)\n",
            "training size:  (7291, 16, 16)   | labels:  (7291,)\n"
          ],
          "name": "stdout"
        }
      ]
    },
    {
      "cell_type": "code",
      "metadata": {
        "id": "PiYnJ6HjZx_e",
        "colab_type": "code",
        "colab": {
          "base_uri": "https://localhost:8080/",
          "height": 316
        },
        "outputId": "a400d213-3be1-4b6a-c9bc-e955dbd5e686"
      },
      "source": [
        "dataiter = iter(train_loader)\n",
        "\n",
        "example_batch = next(dataiter)\n",
        "concatenated = torch.cat((example_batch[0],example_batch[1]),0)\n",
        "imshow(torchvision.utils.make_grid(concatenated.cpu()))\n",
        "print(example_batch[2].cpu().numpy())"
      ],
      "execution_count": 208,
      "outputs": [
        {
          "output_type": "stream",
          "text": [
            "Clipping input data to the valid range for imshow with RGB data ([0..1] for floats or [0..255] for integers).\n"
          ],
          "name": "stderr"
        },
        {
          "output_type": "display_data",
          "data": {
            "image/png": "[encoded data removed]",
            "text/plain": [
              "<Figure size 432x288 with 1 Axes>"
            ]
          },
          "metadata": {
            "tags": []
          }
        },
        {
          "output_type": "stream",
          "text": [
            "[0. 0. 1. 0. 0. 1. 0. 0. 1. 0. 1. 1. 1. 1. 1. 1. 0. 0. 0. 1. 0. 0. 0. 1.\n",
            " 0. 1. 0. 0. 0. 1. 0. 0. 1. 1. 0. 0. 1. 0. 1. 1. 0. 0. 1. 0. 0. 0. 1. 1.\n",
            " 0. 1. 0. 0. 0. 1. 0. 1. 1. 1. 1. 0. 0. 0. 1. 0.]\n"
          ],
          "name": "stdout"
        }
      ]
    },
    {
      "cell_type": "code",
      "metadata": {
        "id": "YaLCU6oNbZJ7",
        "colab_type": "code",
        "colab": {}
      },
      "source": [
        "class SiameseNetwork(nn.Module):\n",
        "    def __init__(self):\n",
        "        super(SiameseNetwork, self).__init__()\n",
        "        self.cnn1 = nn.Sequential(\n",
        "            # nn.ReflectionPad2d(1),\n",
        "            nn.Conv2d(1, 4, kernel_size=3),\n",
        "            nn.ReLU(inplace=True),\n",
        "            nn.BatchNorm2d(4),\n",
        "            \n",
        "            # nn.ReflectionPad2d(1),\n",
        "            nn.Conv2d(4, 8, kernel_size=3),\n",
        "            nn.ReLU(inplace=True),\n",
        "            nn.BatchNorm2d(8),\n",
        "\n",
        "\n",
        "            # nn.ReflectionPad2d(1),\n",
        "            nn.Conv2d(8, 8, kernel_size=3),\n",
        "            nn.ReLU(inplace=True),\n",
        "            nn.BatchNorm2d(8),\n",
        "\n",
        "\n",
        "        )\n",
        "\n",
        "        self.fc1 = nn.Sequential(\n",
        "            nn.Linear(8*10*10, 500),\n",
        "            nn.ReLU(inplace=True),\n",
        "\n",
        "            nn.Linear(500, 500),\n",
        "            nn.ReLU(inplace=True),\n",
        "\n",
        "            nn.Linear(500, 5))\n",
        "\n",
        "    def forward_once(self, x):\n",
        "        output = self.cnn1(x)\n",
        "        output = output.view(output.size()[0], -1)\n",
        "        output = self.fc1(output)\n",
        "        return output\n",
        "\n",
        "    def forward(self, input1, input2):\n",
        "        output1 = self.forward_once(input1)\n",
        "        output2 = self.forward_once(input2)\n",
        "        return output1, output2"
      ],
      "execution_count": 0,
      "outputs": []
    },
    {
      "cell_type": "code",
      "metadata": {
        "id": "-aMIUY8AdXw6",
        "colab_type": "code",
        "colab": {}
      },
      "source": [
        " class ContrastiveLoss(torch.nn.Module):\n",
        "\n",
        "    def __init__(self, margin=2.0):\n",
        "        super(ContrastiveLoss, self).__init__()\n",
        "        self.margin = margin\n",
        "\n",
        "    def forward(self, output1, output2, label):\n",
        "        euclidean_distance = F.pairwise_distance(output1, output2, keepdim = True)\n",
        "        loss_contrastive = torch.mean((1-label) * torch.pow(euclidean_distance, 2) +\n",
        "                                      (label) * torch.pow(torch.clamp(self.margin - euclidean_distance, min=0.0), 2))\n",
        "\n",
        "\n",
        "        return loss_contrastive"
      ],
      "execution_count": 0,
      "outputs": []
    },
    {
      "cell_type": "code",
      "metadata": {
        "id": "laQ9s_bvdcdw",
        "colab_type": "code",
        "colab": {}
      },
      "source": [
        "net = SiameseNetwork().cuda()\n",
        "criterion = ContrastiveLoss(margin=5)\n",
        "optimizer = optim.Adam(net.parameters(),lr = 0.001)\n"
      ],
      "execution_count": 0,
      "outputs": []
    },
    {
      "cell_type": "code",
      "metadata": {
        "id": "75clGXI1eH26",
        "colab_type": "code",
        "colab": {}
      },
      "source": [
        "counter = []\n",
        "loss_history = [] \n",
        "iteration_number= 0"
      ],
      "execution_count": 0,
      "outputs": []
    },
    {
      "cell_type": "code",
      "metadata": {
        "id": "ctAyXl_5eaJm",
        "colab_type": "code",
        "colab": {
          "base_uri": "https://localhost:8080/",
          "height": 435
        },
        "outputId": "abd8c44e-931e-401c-9521-0e88f51b86b0"
      },
      "source": [
        "Config.train_number_epochs = 100\n",
        "for epoch in range(0,Config.train_number_epochs):\n",
        "    total_loss = 0\n",
        "    for i, data in enumerate(train_loader,0):\n",
        "        img0, img1 , label = data\n",
        "        img0, img1 , label = img0.cuda(), img1.cuda() , label.cuda()\n",
        "        optimizer.zero_grad()\n",
        "        output1,output2 = net(img0,img1)\n",
        "        loss_contrastive = criterion(output1,output2,label)\n",
        "        loss_contrastive.backward()\n",
        "        total_loss += loss_contrastive.item()\n",
        "        optimizer.step()\n",
        "    if epoch%10==0:\n",
        "        print(\"Epoch: {} |  Loss: {}\".format(epoch,total_loss))\n",
        "        iteration_number +=10\n",
        "        counter.append(iteration_number)\n",
        "        loss_history.append(total_loss)\n",
        "show_plot(counter,loss_history)"
      ],
      "execution_count": 213,
      "outputs": [
        {
          "output_type": "stream",
          "text": [
            "Epoch: 0 |  Loss: 1517.7854113578796\n",
            "Epoch: 10 |  Loss: 1454.662610054016\n",
            "Epoch: 20 |  Loss: 1446.8793182373047\n",
            "Epoch: 30 |  Loss: 1445.178994178772\n",
            "Epoch: 40 |  Loss: 1446.4125652313232\n",
            "Epoch: 50 |  Loss: 1447.6307334899902\n",
            "Epoch: 60 |  Loss: 1448.1715650558472\n",
            "Epoch: 70 |  Loss: 1444.0107026100159\n",
            "Epoch: 80 |  Loss: 1446.0104894638062\n",
            "Epoch: 90 |  Loss: 1447.9779863357544\n"
          ],
          "name": "stdout"
        },
        {
          "output_type": "display_data",
          "data": {
            "image/png": "[encoded data removed]",
            "text/plain": [
              "<Figure size 432x288 with 1 Axes>"
            ]
          },
          "metadata": {
            "tags": []
          }
        }
      ]
    },
    {
      "cell_type": "code",
      "metadata": {
        "id": "pZa5S9bvxqTX",
        "colab_type": "code",
        "colab": {
          "base_uri": "https://localhost:8080/",
          "height": 51
        },
        "outputId": "e030a682-807a-4fe5-b56f-b480f6fb25c2"
      },
      "source": [
        "test_dataset = SiameseNetworkDataset(dataset=\"test\",transform=data_transform, data_size=1000)\n",
        "test_loader = DataLoader(dataset=test_dataset, batch_size=1, shuffle=True, num_workers=4)\n",
        "test_loader = DeviceDataLoader(test_loader, device)"
      ],
      "execution_count": 220,
      "outputs": [
        {
          "output_type": "stream",
          "text": [
            "testing size:  (2007, 16, 16)   | labels:  (2007,)\n",
            "testing size:  (2007, 16, 16)   | labels:  (2007,)\n"
          ],
          "name": "stdout"
        }
      ]
    },
    {
      "cell_type": "code",
      "metadata": {
        "id": "W7NMJy6NeaWX",
        "colab_type": "code",
        "colab": {
          "base_uri": "https://localhost:8080/",
          "height": 68
        },
        "outputId": "a33875b2-063c-4eed-ef95-14b0a030037e"
      },
      "source": [
        "l_same, l_diff = 0,0\n",
        "c_same,c_diff = 0,0\n",
        "error = 0\n",
        "threshold = 1.1\n",
        "for _, data in enumerate(test_loader,0):\n",
        "    x0,x1,label2 = data\n",
        "    concatenated = torch.cat((x0,x1),0)\n",
        "    \n",
        "    output1,output2 = net(Variable(x0).cuda(),Variable(x1).cuda())\n",
        "    euclidean_distance = F.pairwise_distance(output1, output2)\n",
        "    if not label2:\n",
        "        c_same += 1\n",
        "        l_same += euclidean_distance.item()\n",
        "        if euclidean_distance.item()>=threshold:\n",
        "            error += 1\n",
        "    else:\n",
        "        c_diff += 1\n",
        "        l_diff += euclidean_distance.item()\n",
        "        if euclidean_distance.item()<threshold:\n",
        "            error += 1\n",
        "\n",
        "    '''\n",
        "        uncomment the 4 lines below to see the inputs and the dissimilarity score!\n",
        "    '''\n",
        "    # imshow(torchvision.utils.make_grid(concatenated.cpu()),'Dissimilarity: {:.2f}'.format(euclidean_distance.item()))\n",
        "    # print(label2)\n",
        "    # if _==10:\n",
        "    #   break\n",
        "print(\"avg loss for same domain : \", l_same/c_same,\" |  diff domain : \",l_diff/c_diff)\n",
        "print(\"num of same : \", c_same, \"  | diff : \", c_diff)\n",
        "print(\"error: \", error/(c_same+c_diff))"
      ],
      "execution_count": 229,
      "outputs": [
        {
          "output_type": "stream",
          "text": [
            "avg loss for same domain :  0.7262504922277607  |  diff domain :  2.4413444337091947\n",
            "num of same :  506   | diff :  494\n",
            "error:  0.121\n"
          ],
          "name": "stdout"
        }
      ]
    },
    {
      "cell_type": "code",
      "metadata": {
        "id": "a7e9HkWhhDEQ",
        "colab_type": "code",
        "colab": {}
      },
      "source": [
        ""
      ],
      "execution_count": 0,
      "outputs": []
    }
  ]
}